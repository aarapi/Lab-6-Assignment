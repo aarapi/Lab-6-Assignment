{
 "cells": [
  {
   "cell_type": "markdown",
   "id": "b9fcea06",
   "metadata": {},
   "source": [
    "### Hypothesis Testing\n",
    "\n",
    "#### The Null and Alternative Hypothesis\n",
    "The first thing we need to introduce is the null hypothesis, commonly written as **$H_0$** . The null hypothesis is the default case, generally reflecting the current common conception of the world. The alternative hypothesis is the one you are testing."
   ]
  },
  {
   "cell_type": "markdown",
   "id": "43836ad3",
   "metadata": {},
   "source": [
    "#### Examples\n",
    "The alternative hypothesis $H_A$ is that you own more than 10 pairs of shoes. The null hypothesis $H_0$ is that you do not own more than 10 pairs of shoes.\n",
    "\n",
    "The alternative hypothesis $H_A$ is that eating pizza is related with obesity. The null hypothesis $H_0$ is that it is not.\n",
    "\n",
    "The alternative hypothesis $H_A$ is that microsoft's mean returns > 0. The null hypothesis $H_0$ is that they <= 0.\n",
    "\n",
    "#### Difficulty of Testing\n",
    "Some hypotheses are easier to test than others. For instance the alternative hypothesis, \"I own more than 10 pairs of shoes.\" and the accompanying null hypothesis that you do not, is easily tested by counting the number of pairs you own. However, you will still not get a perfect answer all the time in this case, as there may be measurement error in the counting, albiet quite small.\n",
    "\n",
    "On the other hand, the hypothesis, \"The number of insect species is greater than the number of stars in the universe.\" would be more difficult to test and require lots of data gathering.\n",
    "\n",
    "#### Hypotheses Must be Testable\n",
    "A hypothesis cannot be vague, otherwise how will it be tested. For example, \"Momentum trading is a good way to make money.\" is not really testable. What does 'good' mean? What type of momentum trading are we discussing? Hypotheses should be very specific and the type of test needed should follow quickly from the hypothesis."
   ]
  },
  {
   "cell_type": "markdown",
   "id": "2cfae7ed",
   "metadata": {},
   "source": [
    "#### How to Perform Hypothesis Testing\n",
    "The following are the main steps in hypothesis testing:\n",
    "\n",
    "State the hypothesis and the alternative to the hypothesis\n",
    "Identify the appropriate test statistic and its distribution. Ensure that any assumptions about the data are met (stationarity, normality, etc.)\n",
    "Specify the significance level, $\\alpha$\n",
    "From $\\alpha$ and the distribution compute the 'critical value'.\n",
    "Collect the data and calculate the test statistic\n",
    "Compare test statistic with critical value and decide whether to accept or reject the hypothesis.\n",
    "First we state the hypothesis that we wish to test. We do this by identifying a null hypothesis and an alternative hypothesis. The null hypothesis, $H_0$, is the one that we want to test, while the alternative hypothesis, $H_A$, is the hypothesis that is accepted in the case where $H_0$ is rejected.\n",
    "\n",
    "Let's say that we want to test whether the mean return of Microsoft stock is positive. The parameter that we are testing is denoted by $\\theta$ and the proposed value of the parameter is denoted by $\\theta_0$, which in this case is equal to $0$. So we say that our $H_0$ is $\\theta = \\theta_0$, that the returns are negative, and our $H_A$ is $\\theta \\neq \\theta_0$. Including this formation, there are three possible ways to formulate null and alternative hypotheses:\n",
    "\n",
    "$H_0: \\theta = \\theta_0$ versus $H_A: \\theta \\neq \\theta_0$ (A \"not equal to\" alternative hypothesis)\n",
    "$H_0: \\theta \\leq \\theta_0$ versus $H_A: \\theta > \\theta_0$ (A \"greater than\" alternative hypothesis)\n",
    "$H_0: \\theta \\geq \\theta_0$ versus $H_A: \\theta < \\theta_0$ (A \"less than\" alternative hypothesis)\n",
    "\n",
    "In this case, where we are testing the returns of MSFT, $\\theta = \\mu_{MSFT}$, representing the stock's mean returns. Since we are testing whether the returns are positive or negative, we have that $\\theta_0 = 0$. Our example follows the first formulation of a hypothesis test. This is a two-sided hypothesis test (or two-tailed hypothesis test). The second and third formulations are examples of a one-sided hypothesis test (or one-tailed hypothesis test). With a one-sided test, we reject the null in favor of the alternative only if the data indivates that $\\theta$ is repectively greater than or less than $\\theta_0$. A two-sided test rejects the null in favor of the alternative if the data indicates that $\\theta$ is either greater or less than $\\theta_0$.\n",
    "\n",
    "So if we were to write out our hypothesis for MSFT in more qualitative terms, we would have:\n",
    "\n",
    "\\begin{eqnarray} H_0 &:& \\text{The mean return on Microsoft stock is $0$}\\\\ H_A &:& \\text{The mean return on Microsoft stock is not $0$} \\end{eqnarray}\n",
    "When forming a hypothesis test, the null and alternative hypothesis must be complementary to each other. Between them they must cover all values of $\\theta$. Regardless of the type of hypothesis test we are performing, we always test the null hypothesis as if $\\theta = \\theta_0$. In the case of either of the one-tailed tests, this will still provide more than enough evidence for us to make a decision. For example, if $H_0: \\theta \\leq 0$, $H_A: \\theta > 0$, and we have enough evidence to reject $H_0: \\theta = 0$ in favor of $H_A: \\theta > 0$, then this holds true for all values less than $0$ as well.\n",
    "\n",
    "The most common type of hypothesis test is the two-tailed, \"not equal to\", hypothesis test, because it presents a neutral view. The one-tailed hypothesis tests are less neutral than the \"not equal to\" test, reflecting the thoughts of the tester. One-tailed tests are often used to test \"hoped for\" results or results that the testers have a prior idea about."
   ]
  },
  {
   "cell_type": "code",
   "execution_count": 1,
   "id": "41855c0c",
   "metadata": {},
   "outputs": [],
   "source": [
    "import statsmodels.api as sm\n",
    "import numpy as np\n",
    "import matplotlib.pyplot as plt\n",
    "import pandas as pd"
   ]
  },
  {
   "cell_type": "markdown",
   "id": "0e34d07b",
   "metadata": {},
   "source": [
    "#### One Population Proportion\n",
    "##### Research Question\n",
    "In previous years, 52% of parents believed that electronics and social media was the cause of their teenager’s lack of sleep. Do more parents today believe that their teenager’s lack of sleep is caused due to electronics and social media?\n",
    "\n",
    "**Population**: Parents with a teenager (age 13-18)\n",
    "**Parameter of Interest**: p\n",
    "\n",
    "**Null Hypothesis**: p = 0.52\n",
    "**Alternative Hypthosis**: p > 0.52 (note that this is a one-sided test)\n",
    "\n",
    "**Data**: 1018 people were surveyed. 56% of those who were surveyed believe that their teenager’s lack of sleep is caused due to electronics and social media.\n",
    "\n",
    "Use of **proportions_ztest()** from **statsmodels**\n",
    "Note the argument **alternative=\"larger\"** indicating a one-sided test. The function returns two values - the z-statistic and the corresponding p-value."
   ]
  },
  {
   "cell_type": "code",
   "execution_count": 2,
   "id": "3e676ca1",
   "metadata": {},
   "outputs": [],
   "source": [
    "n = 1018\n",
    "pnull = .52\n",
    "phat = .56"
   ]
  },
  {
   "cell_type": "code",
   "execution_count": 3,
   "id": "20ba69fb",
   "metadata": {},
   "outputs": [
    {
     "data": {
      "text/plain": [
       "(2.571067795759113, 0.005069273865860533)"
      ]
     },
     "execution_count": 3,
     "metadata": {},
     "output_type": "execute_result"
    }
   ],
   "source": [
    "sm.stats.proportions_ztest(phat * n, n, pnull, alternative='larger')"
   ]
  },
  {
   "cell_type": "markdown",
   "id": "fd0d42e5",
   "metadata": {},
   "source": [
    "##### Conclusion of the hypothesis test\n",
    "Since the calculated p-value of the z-test is pretty small, we can reject the Null hypothesis that the percentage of parents, who believe that their teenager’s lack of sleep is caused due to electronics and social media, is as same as previous years' estimate i.e. 52%.\n",
    "\n",
    "Although, we do not accept the alternate hypothesis, this informally means that there is a good chance of this proportion being more than 52%.\n",
    "\n",
    "#### Difference in Population Proportions\n",
    "##### Research Question\n",
    "Is there a significant difference between the population proportions of parents of black children and parents of Hispanic children who report that their child has had some swimming lessons?\n",
    "\n",
    "**Populations**: All parents of black children age 6-18 and all parents of Hispanic children age 6-18\n",
    "**Parameter of Interest**: p1 - p2, where p1 = black and p2 = hispanic\n",
    "\n",
    "**Null Hypothesis**: p1 - p2 = 0\n",
    "**Alternative Hypthosis**: p1 - p2  ≠  = 0\n",
    "\n",
    "**Data**: 247 Parents of Black Children. 36.8% of parents report that their child has had some swimming lessons.\n",
    "308 Parents of Hispanic Children. 38.9% of parents report that their child has had some swimming lessons.\n",
    "\n",
    "##### Use of ttest_ind() from statsmodels\n",
    "Difference in population proportion needs t-test. Also, the population follow a binomial distribution here. We can just pass on the two population quantities with the appropriate binomial distribution parameters to the t-test function.\n",
    "\n",
    "The function returns three values: (a) test statisic, (b) p-value of the t-test, and (c) degrees of freedom used in the t-test."
   ]
  },
  {
   "cell_type": "code",
   "execution_count": 4,
   "id": "21999b05",
   "metadata": {},
   "outputs": [],
   "source": [
    "n1 = 247\n",
    "p1 = .37\n",
    "\n",
    "n2 = 308\n",
    "p2 = .39\n",
    "\n",
    "population1 = np.random.binomial(1, p1, n1)\n",
    "population2 = np.random.binomial(1, p2, n2)"
   ]
  },
  {
   "cell_type": "code",
   "execution_count": 5,
   "id": "bd7349c9",
   "metadata": {},
   "outputs": [
    {
     "data": {
      "text/plain": [
       "(-1.1225536045091489, 0.2621142683742118, 553.0)"
      ]
     },
     "execution_count": 5,
     "metadata": {},
     "output_type": "execute_result"
    }
   ],
   "source": [
    "sm.stats.ttest_ind(population1, population2)\n"
   ]
  },
  {
   "cell_type": "markdown",
   "id": "0b04f83c",
   "metadata": {},
   "source": [
    "##### Conclusion of the hypothesis test\n",
    "Since the p-value is quite high ~0.768, we cannot reject the Null hypothesis in this case i.e. the difference in the population proportions are not statistically significant.\n",
    "\n",
    "##### But what happens if we could survey much higher number of people?\n",
    "We do not change the proportions, just the number of survey participants in the two population. The slight difference in the proportion could become statistically significant in this situation. There is no guarantee that when you run the code, you will get a p-value < 0.05 all the time as the samples are randomly generated each itme. But if you run it a few times, you will notice some p-values < 0.05 for sure."
   ]
  },
  {
   "cell_type": "code",
   "execution_count": 6,
   "id": "59a2c15b",
   "metadata": {},
   "outputs": [],
   "source": [
    "n1 = 5000\n",
    "p1 = .37\n",
    "\n",
    "n2 = 5000\n",
    "p2 = .39\n",
    "\n",
    "population1 = np.random.binomial(1, p1, n1)\n",
    "population2 = np.random.binomial(1, p2, n2)"
   ]
  },
  {
   "cell_type": "code",
   "execution_count": 8,
   "id": "b907d9f8",
   "metadata": {},
   "outputs": [
    {
     "data": {
      "text/plain": [
       "(-2.3462179710052498, 0.018984435068830713, 9998.0)"
      ]
     },
     "execution_count": 8,
     "metadata": {},
     "output_type": "execute_result"
    }
   ],
   "source": [
    "sm.stats.ttest_ind(population1, population2)\n"
   ]
  },
  {
   "cell_type": "markdown",
   "id": "d290cf43",
   "metadata": {},
   "source": [
    "#### One Population Mean\n",
    "##### Research Question\n",
    "Let's say a cartwheeling competition was organized for some adults. The data looks like following,\n",
    "\n",
    "(80.57, 98.96, 85.28, 83.83, 69.94, 89.59, 91.09, 66.25, 91.21, 82.7 , 73.54, 81.99, 54.01, 82.89, 75.88, 98.32, 107.2 , 85.53, 79.08, 84.3 , 89.32, 86.35, 78.98, 92.26, 87.01)\n",
    "\n",
    "Is distance Is the average cartwheel distance (in inches) for adults more than 80 inches?\n",
    "\n",
    "**Population**: All adults\n",
    "**Parameter of Interest**:  μ , population mean cartwheel distance.\n",
    "\n",
    "**Null Hypothesis**:  μ  = 80\n",
    "**Alternative Hypthosis**:  μ  > 80\n",
    "\n",
    "**Data**:\n",
    "25 adult participants.\n",
    "μ=83.84 \n",
    "σ=10.72"
   ]
  },
  {
   "cell_type": "code",
   "execution_count": 9,
   "id": "ff757940",
   "metadata": {},
   "outputs": [],
   "source": [
    "cwdata = np.array([80.57, 98.96, 85.28, 83.83, 69.94, 89.59, 91.09, 66.25, 91.21, 82.7 , 73.54, 81.99, 54.01, \n",
    "                 82.89, 75.88, 98.32, 107.2 , 85.53, 79.08, 84.3 , 89.32, 86.35, 78.98, 92.26, 87.01])"
   ]
  },
  {
   "cell_type": "code",
   "execution_count": 10,
   "id": "15865633",
   "metadata": {},
   "outputs": [
    {
     "data": {
      "text/plain": [
       "(25, 83.84320000000001, 10.716018932420752)"
      ]
     },
     "execution_count": 10,
     "metadata": {},
     "output_type": "execute_result"
    }
   ],
   "source": [
    "n = len(cwdata)\n",
    "mean = cwdata.mean()\n",
    "sd = cwdata.std()\n",
    "(n, mean, sd)"
   ]
  },
  {
   "cell_type": "code",
   "execution_count": 11,
   "id": "ffaf7ac0",
   "metadata": {},
   "outputs": [
    {
     "data": {
      "text/plain": [
       "(1.756973189172546, 0.039461189601168366)"
      ]
     },
     "execution_count": 11,
     "metadata": {},
     "output_type": "execute_result"
    }
   ],
   "source": [
    "sm.stats.ztest(cwdata, value = 80, alternative = \"larger\")\n"
   ]
  },
  {
   "cell_type": "markdown",
   "id": "6cdf198e",
   "metadata": {},
   "source": [
    "##### Conclusion of the hypothesis test\n",
    "Since the p-value (0.0394) is lower than the standard confidence level 0.05, we can reject the Null hypothesis that the mean cartwheel distance for adults (a population quantity) is equal to 80 inches. There is strong evidence in support for the alternatine hypothesis that the mean cartwheel distance is, in fact, higher than 80 inches. Note, we used **alternative=\"larger\"** in the z-test.\n",
    "\n",
    "We can also plot the histogram of the data to check if it approximately follows a Normal distribution."
   ]
  },
  {
   "cell_type": "code",
   "execution_count": 12,
   "id": "2d189a05",
   "metadata": {},
   "outputs": [
    {
     "data": {
      "image/png": "[encoded data removed]",
      "text/plain": [
       "<Figure size 432x288 with 1 Axes>"
      ]
     },
     "metadata": {
      "needs_background": "light"
     },
     "output_type": "display_data"
    }
   ],
   "source": [
    "plt.hist(cwdata,bins=5,edgecolor='k')\n",
    "plt.show()"
   ]
  },
  {
   "cell_type": "markdown",
   "id": "87ae6a28",
   "metadata": {},
   "source": [
    "#### Difference in Population Means\n",
    "##### Research Question\n",
    "Considering adults in the NHANES data, do males have a significantly higher mean Body Mass Index than females?\n",
    "\n",
    "**Population**: Adults in the NHANES data.\n",
    "**Parameter of Interest**:  μ1−μ2 , Body Mass Index.\n",
    "\n",
    "**Null Hypothesis**:  μ1=μ2 \n",
    "**Alternative Hypthosis**:  μ1≠μ2 \n",
    "**Data**:\n",
    "\n",
    "2976 Females  μ1=29.94 \n",
    "σ1=7.75 \n",
    "2759 Male Adults\n",
    "μ2=28.78 \n",
    "σ2=6.25 \n",
    "μ1−μ2=1.16"
   ]
  },
  {
   "cell_type": "markdown",
   "id": "1b7afa2e",
   "metadata": {},
   "source": [
    "**Question 1**: Read only head of nhanes_2015_2016.csv file"
   ]
  },
  {
   "cell_type": "code",
   "execution_count": 32,
   "id": "729dcd42",
   "metadata": {},
   "outputs": [
    {
     "data": {
      "text/plain": [
       "Ellipsis"
      ]
     },
     "execution_count": 32,
     "metadata": {},
     "output_type": "execute_result"
    }
   ],
   "source": [
    "..."
   ]
  },
  {
   "cell_type": "markdown",
   "id": "13d3e07b",
   "metadata": {},
   "source": [
    "**Question 2**: Create female and male dataframe using the condition that RIAGENDR == 2 are females and RIAGENDR == 1 are males"
   ]
  },
  {
   "cell_type": "code",
   "execution_count": 27,
   "id": "5d75e6b6",
   "metadata": {},
   "outputs": [],
   "source": [
    "female = ...  #RIAGENDR == 2\n",
    "male = ... #RIAGENDR == 1"
   ]
  },
  {
   "cell_type": "markdown",
   "id": "01264730",
   "metadata": {},
   "source": [
    "**Question 3**: Fill missing parts"
   ]
  },
  {
   "cell_type": "code",
   "execution_count": 33,
   "id": "9020395a",
   "metadata": {},
   "outputs": [],
   "source": [
    "lengthF = ... # length of female dataframe\n",
    "meanF = female[\"BMXBMI\"].mean()\n",
    "standard_deviationF = ... #standard deviation of BMXBMI column in female dataframe\n",
    "\n",
    "(lengthF, meanF, standard_deviationF)"
   ]
  },
  {
   "cell_type": "code",
   "execution_count": 17,
   "id": "efc9dbe6",
   "metadata": {},
   "outputs": [
    {
     "data": {
      "text/plain": [
       "(2759, 28.778072111846942, 6.2525676168014614)"
      ]
     },
     "execution_count": 17,
     "metadata": {},
     "output_type": "execute_result"
    }
   ],
   "source": [
    "lengthM = ... #length of males dataframe\n",
    "meanM = ... #mean of BMXBMI column in male dataframe\n",
    "standard_deviationM = ... #standard deviation of BMXBMI column in male dataframe\n",
    "\n",
    "(lengthM, meanM, standard_deviationM)"
   ]
  },
  {
   "cell_type": "code",
   "execution_count": null,
   "id": "8599a451",
   "metadata": {},
   "outputs": [],
   "source": [
    "sm.stats.ztest(female[\"BMXBMI\"].dropna(), male[\"BMXBMI\"].dropna(),alternative='two-sided')"
   ]
  },
  {
   "cell_type": "markdown",
   "id": "c8e6d9fc",
   "metadata": {},
   "source": [
    "**Question 4** Which of the hypothesis we should reject and why?"
   ]
  },
  {
   "cell_type": "code",
   "execution_count": null,
   "id": "d9e7a824",
   "metadata": {},
   "outputs": [],
   "source": []
  },
  {
   "cell_type": "markdown",
   "id": "613ce629",
   "metadata": {},
   "source": [
    "##### Conclusion of the hypothesis test\n",
    "\n",
    "We can also plot the histogram of the data to check if it approximately follows a Normal distribution"
   ]
  },
  {
   "cell_type": "code",
   "execution_count": 19,
   "id": "da0e79aa",
   "metadata": {},
   "outputs": [
    {
     "data": {
      "image/png": "[encoded data removed]",
      "text/plain": [
       "<Figure size 504x288 with 1 Axes>"
      ]
     },
     "metadata": {
      "needs_background": "light"
     },
     "output_type": "display_data"
    },
    {
     "data": {
      "image/png": "[encoded data removed]",
      "text/plain": [
       "<Figure size 504x288 with 1 Axes>"
      ]
     },
     "metadata": {
      "needs_background": "light"
     },
     "output_type": "display_data"
    }
   ],
   "source": [
    "plt.figure(figsize=(7,4))\n",
    "plt.title(\"Female BMI histogram\",fontsize=16)\n",
    "plt.hist(female[\"BMXBMI\"].dropna(),edgecolor='k',color='pink',bins=25)\n",
    "plt.show()\n",
    "\n",
    "plt.figure(figsize=(7,4))\n",
    "plt.title(\"Male BMI histogram\",fontsize=16)\n",
    "plt.hist(male[\"BMXBMI\"].dropna(),edgecolor='k',color='blue',bins=25)\n",
    "plt.show()"
   ]
  },
  {
   "cell_type": "code",
   "execution_count": null,
   "id": "36410a6c",
   "metadata": {},
   "outputs": [],
   "source": []
  }
 ],
 "metadata": {
  "kernelspec": {
   "display_name": "Python 3 (ipykernel)",
   "language": "python",
   "name": "python3"
  },
  "language_info": {
   "codemirror_mode": {
    "name": "ipython",
    "version": 3
   },
   "file_extension": ".py",
   "mimetype": "text/x-python",
   "name": "python",
   "nbconvert_exporter": "python",
   "pygments_lexer": "ipython3",
   "version": "3.8.10"
  }
 },
 "nbformat": 4,
 "nbformat_minor": 5
}
